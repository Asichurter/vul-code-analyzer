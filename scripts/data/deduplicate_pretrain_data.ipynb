{
 "cells": [
  {
   "cell_type": "code",
   "execution_count": null,
   "metadata": {
    "collapsed": true
   },
   "outputs": [],
   "source": [
    "\n",
    "from utils.file import read_dumped, dump_pickle\n",
    "\n",
    "pretrain_data_path_temp = '/data1/zhijietang/vul_data/datasets/joern_vulberta/packed_process_hybrid_data/packed_hybrid_vol_{}.pkl'\n",
    "\n",
    "def read_vols(vols):\n",
    "    items = []\n",
    "    for vol in vols:\n",
    "        vol_data = read_dumped(pretrain_data_path_temp.format(vol))\n",
    "        items.extend(vol_data)\n",
    "    return items\n",
    "\n",
    "def inner_deduplicate(items):\n",
    "    deduplicate_items = set(items)\n",
    "    return list(deduplicate_items)\n",
    "\n",
    "def intra_deduplicate(items_base, items_to_dedup):\n",
    "    deduplicated_items = []\n",
    "    for item in items_to_dedup:\n",
    "        if item not in items_base:\n",
    "            deduplicated_items.append(item)\n",
    "    return deduplicated_items\n",
    "\n",
    "print('Reading vols...')\n",
    "test_set = read_vols(list(range(221,229)))\n",
    "valid_set = read_vols(list(range(201, 221)))\n",
    "train_set = read_vols(list(range(201)))"
   ]
  },
  {
   "cell_type": "code",
   "execution_count": null,
   "outputs": [],
   "source": [
    "print('Inner deduplicating...')\n",
    "test_set_dedup = inner_deduplicate(test_set)\n",
    "print(f'Deduplicated test set: {len(test_set_dedup)}/{len(test_set)}')\n",
    "valid_set_dedup = inner_deduplicate(valid_set)\n",
    "print(f'Deduplicated valid set: {len(valid_set_dedup)}/{len(valid_set)}')"
   ],
   "metadata": {
    "collapsed": false,
    "pycharm": {
     "name": "#%%\n"
    }
   }
  },
  {
   "cell_type": "code",
   "execution_count": null,
   "outputs": [],
   "source": [
    "print('Init train set...')\n",
    "train_set_set = set(train_set)\n",
    "print(f'Deduplicated train set: {len(train_set_set)}/{len(train_set)}')"
   ],
   "metadata": {
    "collapsed": false,
    "pycharm": {
     "name": "#%%\n"
    }
   }
  },
  {
   "cell_type": "code",
   "execution_count": null,
   "outputs": [],
   "source": [
    "print('Intra dedupcaliting...')\n",
    "test_set_intra_dedup = intra_deduplicate(train_set_set, test_set_dedup)\n",
    "print(f'Intra-dedup test set: {len(test_set_intra_dedup)}')\n",
    "valid_set_intra_dedup = intra_deduplicate(train_set_set, valid_set_dedup)\n",
    "print(f'Intra-dedup valid set: {len(valid_set_intra_dedup)}')\n"
   ],
   "metadata": {
    "collapsed": false,
    "pycharm": {
     "name": "#%%\n"
    }
   }
  },
  {
   "cell_type": "code",
   "execution_count": null,
   "outputs": [],
   "source": [
    "dump_pickle(valid_set_intra_dedup, pretrain_data_path_temp.format(999))\n",
    "dump_pickle(test_set_intra_dedup, pretrain_data_path_temp.format(9999))"
   ],
   "metadata": {
    "collapsed": false,
    "pycharm": {
     "name": "#%%\n"
    }
   }
  }
 ],
 "metadata": {
  "kernelspec": {
   "display_name": "Python 3",
   "language": "python",
   "name": "python3"
  },
  "language_info": {
   "codemirror_mode": {
    "name": "ipython",
    "version": 2
   },
   "file_extension": ".py",
   "mimetype": "text/x-python",
   "name": "python",
   "nbconvert_exporter": "python",
   "pygments_lexer": "ipython2",
   "version": "2.7.6"
  }
 },
 "nbformat": 4,
 "nbformat_minor": 0
}